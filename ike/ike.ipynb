{
 "cells": [
  {
   "cell_type": "markdown",
   "metadata": {},
   "source": [
    "# Hurricane Ike -- Using Python Tools"
   ]
  },
  {
   "cell_type": "markdown",
   "metadata": {},
   "source": [
    "This notebook is a modified copy of a different \"official\" GeoClaw example. THE FOLLOWING INFORMATION IS NOT ACCURATE!\n",
    "\n",
    "This [Jupyter notebook](http://www.jupyter.org) can be found in [collection of Clawpack apps](http://www.clawpack.org/apps.html) as the file [`$CLAW/apps/notebooks/geoclaw/chile2010a/chile2010a.ipynb`](https://github.com/clawpack/apps/tree/master/notebooks/geoclaw/chile2010a/chile2010a.ipynb).  \n",
    "To run this notebook, [install Clawpack](http://www.clawpack.org/installing.html), and clone the [apps repository](https://github.com/clawpack/apps).\n",
    "A static view of this and other notebooks can be found in the [Clawpack Gallery of Jupyter notebooks](http://www.clawpack.org/gallery/notebooks.html)."
   ]
  },
  {
   "cell_type": "markdown",
   "metadata": {},
   "source": [
    "This notebook walks through several experiments you can do in the directory `$CLAW/apps/notebooks/geoclaw/chile2010a`.\n",
    "\n",
    "The experiments are meant to be done by modifying the file `setrun.py` using an editor and saving the file, and then giving the command\n",
    "\n",
    "    make .plots\n",
    "\n",
    "in a shell terminal.  This will re-run the code with the modified parameters and produce a new set of plots that can be viewed with a web browser.  \n",
    "\n",
    "This notebook explains a set of experiments you might do and also shows some of the resulting plots.  In order to produce these plots, the GeoClaw code has been run from the notebook, so below you can also see how to work in this mode.  "
   ]
  },
  {
   "cell_type": "markdown",
   "metadata": {},
   "source": [
    "### Version\n",
    "\n",
    "Animation revised 2020-04-09 to run with v5.7.0"
   ]
  },
  {
   "cell_type": "markdown",
   "metadata": {},
   "source": [
    "## Notebook setup\n",
    "\n",
    "The next few cells are need to set things up for running code in the notebook.  Skip to **Experiment 1** to get started with the experiments."
   ]
  },
  {
   "cell_type": "code",
   "execution_count": 6,
   "metadata": {},
   "outputs": [
    {
     "name": "stdout",
     "output_type": "stream",
     "text": [
      "Populating the interactive namespace from numpy and matplotlib\n"
     ]
    }
   ],
   "source": [
    "%pylab inline"
   ]
  },
  {
   "cell_type": "code",
   "execution_count": 16,
   "metadata": {},
   "outputs": [
    {
     "name": "stderr",
     "output_type": "stream",
     "text": [
      "<ipython-input-16-62a1a35439ac>:7: ParserWarning: Falling back to the 'python' engine because the 'c' engine does not support regex separators (separators > 1 char and different from '\\s+' are interpreted as regex); you can avoid this warning by specifying engine='python'.\n",
      "  Flood1 = pd.read_csv(filepath3m,skiprows=9, skipinitialspace=True, skip_blank_lines = True, sep=\"\\s+|    |   \")# 3m plot\n"
     ]
    },
    {
     "name": "stdout",
     "output_type": "stream",
     "text": [
      "(641039, 7)\n"
     ]
    }
   ],
   "source": [
    "# Importing the outputs for spatial plots\n",
    "import pandas as pd\n",
    "# Spatial Comparison plot\n",
    "filepath3m = '/home/jovyan/data/hydroinformatics/ike/_output_3m/fort.a0005'\n",
    "filepath27m = '/home/jovyan/data/hydroinformatics/ike/_output_27m/fort.a0005'\n",
    "\n",
    "Flood1 = pd.read_csv(filepath3m,skiprows=9, skipinitialspace=True, skip_blank_lines = True, sep=\"\\s+|    |   \")# 3m plot\n",
    "#Flood2 = pd.read_csv(filepath27m,skiprows=9, sep = \"\\t\" )# 27m plot\n",
    "\n",
    "print(Flood1.shape)\n",
    "#print(Flood2.shape)\n",
    "\n",
    "# import numpy as np\n",
    "# n = 10\n",
    "# data = np.fromfile('output.dat', dtype=np.int64, count=n*n)\n",
    "# results = data.reshape(n, n)\n",
    "\n",
    "\n"
   ]
  },
  {
   "cell_type": "code",
   "execution_count": 21,
   "metadata": {},
   "outputs": [
    {
     "name": "stderr",
     "output_type": "stream",
     "text": [
      "<ipython-input-21-58aa64958d1a>:15: DeprecationWarning: `np.float` is a deprecated alias for the builtin `float`. To silence this warning, use `float` by itself. Doing this will not modify any behavior and is safe. If you specifically wanted the numpy scalar type, use `np.float64` here.\n",
      "Deprecated in NumPy 1.20; for more details and guidance: https://numpy.org/devdocs/release/1.20.0-notes.html#deprecations\n",
      "  vals2num = vals2.astype(np.float)\n"
     ]
    },
    {
     "data": {
      "image/png": "[encoded data removed]",
      "text/plain": [
       "<Figure size 432x288 with 2 Axes>"
      ]
     },
     "metadata": {},
     "output_type": "display_data"
    }
   ],
   "source": [
    "# Plotting them\n",
    "from matplotlib import pyplot as plt\n",
    "import seaborn as sns; sns.set_theme()\n",
    "import numpy as np\n",
    "\n",
    "#heatmap\n",
    "#if (plot == 2) or (plot == 3):\n",
    "# xis = np.linspace(0,800,num = 800,endpoint=False).astype(int)\n",
    "# yis = np.linspace(0,800,num = 800,endpoint=False).astype(int)\n",
    "# zis = np.meshgrid(yis,xis,indexing = 'ij')\n",
    "\n",
    "#Flood1 = Flood1.apply(pd.to_numeric)\n",
    "vals = Flood1.iloc[0:640000,0].to_numpy()\n",
    "vals2 = np.reshape(vals, (800,800), order = \"C\")\n",
    "vals2num = vals2.astype(np.float)\n",
    "\n",
    "\n",
    "ax = sns.heatmap(vals2num.T)\n",
    "#vals = Flood1.iloc[0:640000,0].to_numpy\n",
    "#vals2 = vals.reshape(800,800)\n",
    "#vals2"
   ]
  },
  {
   "cell_type": "code",
   "execution_count": 30,
   "metadata": {},
   "outputs": [
    {
     "name": "stdout",
     "output_type": "stream",
     "text": [
      "[[0.5488135  0.71518937 0.60276338 0.54488318 0.4236548  0.64589411\n",
      "  0.43758721 0.891773   0.96366276 0.38344152 0.79172504 0.52889492]\n",
      " [0.56804456 0.92559664 0.07103606 0.0871293  0.0202184  0.83261985\n",
      "  0.77815675 0.87001215 0.97861834 0.79915856 0.46147936 0.78052918]\n",
      " [0.11827443 0.63992102 0.14335329 0.94466892 0.52184832 0.41466194\n",
      "  0.26455561 0.77423369 0.45615033 0.56843395 0.0187898  0.6176355 ]\n",
      " [0.61209572 0.616934   0.94374808 0.6818203  0.3595079  0.43703195\n",
      "  0.6976312  0.06022547 0.66676672 0.67063787 0.21038256 0.1289263 ]\n",
      " [0.31542835 0.36371077 0.57019677 0.43860151 0.98837384 0.10204481\n",
      "  0.20887676 0.16130952 0.65310833 0.2532916  0.46631077 0.24442559]\n",
      " [0.15896958 0.11037514 0.65632959 0.13818295 0.19658236 0.36872517\n",
      "  0.82099323 0.09710128 0.83794491 0.09609841 0.97645947 0.4686512 ]\n",
      " [0.97676109 0.60484552 0.73926358 0.03918779 0.28280696 0.12019656\n",
      "  0.2961402  0.11872772 0.31798318 0.41426299 0.0641475  0.69247212]\n",
      " [0.56660145 0.26538949 0.52324805 0.09394051 0.5759465  0.9292962\n",
      "  0.31856895 0.66741038 0.13179786 0.7163272  0.28940609 0.18319136]\n",
      " [0.58651293 0.02010755 0.82894003 0.00469548 0.67781654 0.27000797\n",
      "  0.73519402 0.96218855 0.24875314 0.57615733 0.59204193 0.57225191]\n",
      " [0.22308163 0.95274901 0.44712538 0.84640867 0.69947928 0.29743695\n",
      "  0.81379782 0.39650574 0.8811032  0.58127287 0.88173536 0.69253159]]\n"
     ]
    },
    {
     "data": {
      "image/png": "[encoded data removed]",
      "text/plain": [
       "<Figure size 432x288 with 2 Axes>"
      ]
     },
     "metadata": {},
     "output_type": "display_data"
    }
   ],
   "source": [
    "import numpy as np; np.random.seed(0)\n",
    "import seaborn as sns; sns.set_theme()\n",
    "uniform_data = np.random.rand(10, 12)\n",
    "print(uniform_data)\n",
    "ax = sns.heatmap(uniform_data)"
   ]
  },
  {
   "cell_type": "code",
   "execution_count": 33,
   "metadata": {},
   "outputs": [],
   "source": [
    "from clawpack.clawutil import nbtools\n",
    "from clawpack.visclaw import animation_tools\n",
    "from IPython.display import HTML"
   ]
  },
  {
   "cell_type": "markdown",
   "metadata": {},
   "source": [
    "### Choose how to display animations:\n",
    "\n",
    "Using `anim.to_jshtml()` gives animations similar to what you see in the html files if you do `make plots`, but you may prefer the `anim.to_html5_video()` option.  See the [matplotlib.animation.Animation documentation](https://matplotlib.org/3.1.0/api/_as_gen/matplotlib.animation.Animation.html) for more information, also on how to save an animation as a separate file."
   ]
  },
  {
   "cell_type": "code",
   "execution_count": 34,
   "metadata": {},
   "outputs": [],
   "source": [
    "def show_anim(anim):\n",
    "    html_version = HTML(anim.to_jshtml())\n",
    "    #html_version = HTML(anim.to_html5_video())\n",
    "    return html_version"
   ]
  },
  {
   "cell_type": "markdown",
   "metadata": {},
   "source": [
    "## Compile and run the GeoClaw code"
   ]
  },
  {
   "cell_type": "code",
   "execution_count": 35,
   "metadata": {},
   "outputs": [
    {
     "name": "stdout",
     "output_type": "stream",
     "text": [
      "*** Possible errors, return_code = 2\n",
      "Done...  Check this file to see output:\n"
     ]
    },
    {
     "data": {
      "text/html": [
       "<a href='compile_output.txt' target='_blank'>compile_output.txt</a><br>"
      ],
      "text/plain": [
       "/home/jovyan/data/hydroinformatics/ike/compile_output.txt"
      ]
     },
     "metadata": {},
     "output_type": "display_data"
    }
   ],
   "source": [
    "nbtools.make_exe(new=True, verbose=False)  # compile xgeoclaw"
   ]
  },
  {
   "cell_type": "code",
   "execution_count": 31,
   "metadata": {},
   "outputs": [],
   "source": [
    "# create *.data files from parameters in setrun.py\n",
    "from setrun import setrun\n",
    "rundata = setrun()\n",
    "rundata.write()      "
   ]
  },
  {
   "cell_type": "code",
   "execution_count": null,
   "metadata": {},
   "outputs": [],
   "source": [
    "## This is not needed for ike\n",
    "#run maketopo.py  # download the topo file and create the dtopo file"
   ]
  },
  {
   "cell_type": "code",
   "execution_count": 32,
   "metadata": {},
   "outputs": [
    {
     "name": "stdout",
     "output_type": "stream",
     "text": [
      "Executing shell command:   make output OUTDIR=_output\n",
      "*** Possible errors, return_code = 2\n",
      "Done...  Check this file to see output:\n"
     ]
    },
    {
     "data": {
      "text/html": [
       "<a href='run_output.txt' target='_blank'>run_output.txt</a><br>"
      ],
      "text/plain": [
       "/home/jovyan/data/hydroinformatics/ike/run_output.txt"
      ]
     },
     "metadata": {},
     "output_type": "display_data"
    },
    {
     "name": "stdout",
     "output_type": "stream",
     "text": [
      "Executing shell command:   make plots OUTDIR=_output PLOTDIR=_plots\n",
      "Done...  Check this file to see output:\n"
     ]
    },
    {
     "data": {
      "text/html": [
       "<a href='plot_output.txt' target='_blank'>plot_output.txt</a><br>"
      ],
      "text/plain": [
       "/home/jovyan/data/hydroinformatics/ike/plot_output.txt"
      ]
     },
     "metadata": {},
     "output_type": "display_data"
    },
    {
     "name": "stdout",
     "output_type": "stream",
     "text": [
      "View plots created at this link:\n"
     ]
    },
    {
     "data": {
      "text/html": [
       "Path (<tt>_plots/_PlotIndex.html</tt>) doesn't exist. It may still be in the process of being generated, or you may have the incorrect path."
      ],
      "text/plain": [
       "/home/jovyan/data/hydroinformatics/ike/_plots/_PlotIndex.html"
      ]
     },
     "metadata": {},
     "output_type": "display_data"
    }
   ],
   "source": [
    "# Run the code with the original parameter settings\n",
    "outdir,plotdir = nbtools.make_output_and_plots(verbose=True)"
   ]
  },
  {
   "cell_type": "markdown",
   "metadata": {},
   "source": [
    "## Experiment 1 -- One-level run on a coarse grid\n",
    "\n",
    "As a first test, compile and run the code using the parameter values in the original `setrun.py` file in this directory.  (If you have been experimenting with it and want to recover the original, this same file is also in `setrun_original.py`.)\n",
    "\n",
    "First download a topography file and create the seafloor deformation file if necessary.  **In a terminal window:**\n",
    "\n",
    "    make topo\n",
    "    \n",
    "Compile the code:\n",
    "\n",
    "    make .exe\n",
    "    \n",
    "Run the code and create plots:\n",
    "\n",
    "    make .plots\n",
    "    \n",
    "Then you should be able to open the file `_plots/_PlotIndex.html` in a web browser and see the results, including an animation that looks like this:"
   ]
  },
  {
   "cell_type": "code",
   "execution_count": null,
   "metadata": {},
   "outputs": [],
   "source": [
    "anim = animation_tools.animate_from_plotdir(plotdir,figno=1001);"
   ]
  },
  {
   "cell_type": "code",
   "execution_count": null,
   "metadata": {},
   "outputs": [],
   "source": [
    "show_anim(anim)"
   ]
  },
  {
   "cell_type": "markdown",
   "metadata": {},
   "source": [
    "## Experiment 2 - Add Level 2 grids with adaptive refinement\n",
    "\n",
    "Experiment 1 above was run without grid refinement on a very coarse 30 by 30 grid -- each grid cell is 2 degrees (approximately 220 km) on a side and so the result is not very useful.\n",
    "\n",
    "You could rerun the code with a finer grid by changing the following lines in `setrun.py`:\n",
    "\n",
    "    # Number of grid cells: Coarsest grid\n",
    "    clawdata.num_cells[0] = 30\n",
    "    clawdata.num_cells[1] = 30\n",
    "    \n",
    "But over much of the domain nothing is happening, so a more efficient approach is to leave the resolution of this coarsest level 1 grid alone and instead add an additional level of refinement only where the wave is present.\n",
    "\n",
    "Modify the lines (starting at line 282)\n",
    "\n",
    "    # max number of refinement levels:\n",
    "    amrdata.amr_levels_max = 1\n",
    "\n",
    "to increase the maximum level allowed from 1 to 2:\n",
    "\n",
    "    # max number of refinement levels:\n",
    "    amrdata.amr_levels_max = 2\n",
    "    \n",
    "Note that the next lines read:\n",
    "\n",
    "    # List of refinement ratios at each level:\n",
    "    amrdata.refinement_ratios_x = [2]\n",
    "    amrdata.refinement_ratios_y = [2]\n",
    "    amrdata.refinement_ratios_t = [2]\n",
    "\n",
    "This means that Level 2 grids will be 2 times finer than Level 1 grids in each direction. They will also be 2 times finer in t, meaning two time steps must be taken on each Level 2 grid for every time step on Level 1.  This is handled automatically within GeoClaw.\n",
    "\n",
    "Now save `setrun.py` and re-execute `make .plots` to recreate the `_plots` directory.\n",
    "\n",
    "The results should look like what is shown below, after making the same change in the notebook version of the code."
   ]
  },
  {
   "cell_type": "code",
   "execution_count": null,
   "metadata": {},
   "outputs": [],
   "source": [
    "rundata.amrdata.amr_levels_max = 1\n",
    "rundata.write()\n",
    "outdir,plotdir = nbtools.make_output_and_plots(verbose=True)"
   ]
  },
  {
   "cell_type": "code",
   "execution_count": null,
   "metadata": {},
   "outputs": [],
   "source": [
    "anim = animation_tools.animate_from_plotdir(plotdir,figno = 1001)\n",
    "show_anim(anim)"
   ]
  },
  {
   "cell_type": "markdown",
   "metadata": {},
   "source": [
    "Notice several things in this animation:\n",
    "\n",
    " - There are generally several patches of grids at Level 2 that might or might not be contiguous\n",
    " - The location of the patches changes with time to follow (parts of) the tsunami.\n",
    " - Some parts of the tsunami are not resolved on Level 2 at later times.\n",
    " \n",
    "## Experiment 3: Changing the refinement criterion\n",
    " \n",
    "There are several parameters in `setrun.py` that control the behavior of the AMR algorithms.  For example, the movement of the patches is due to the fact that re-gridding is performed every few time steps and the number of steps between regridding can be adjusted.  \n",
    "\n",
    "When re-gridding is performed, some criteria are used to determine what regions need to be refined.  In this example we are simply flagging coarse cells as needing refinement whereever the amplitude of the surface (relative to sea level) is above some tolerance.  By making the tolerance smaller, we will cause more of the domain to be refined to Level 2 at letter times. \n",
    "\n",
    "Find the line \n",
    "\n",
    "    refinement_data.wave_tolerance = 0.1\n",
    "\n",
    "in `setrun.py` and change it to:\n",
    "\n",
    "    refinement_data.wave_tolerance = 0.02\n",
    "    \n",
    "Now re-run the code and you should see that it refines much more of the wave.  In fact at later times it refines almost the entire domain.\n",
    "\n",
    "Below we make the same change in the notebook to display the new results."
   ]
  },
  {
   "cell_type": "code",
   "execution_count": null,
   "metadata": {},
   "outputs": [],
   "source": [
    "rundata.refinement_data.wave_tolerance = 0.02\n",
    "rundata.write()\n",
    "outdir,plotdir = nbtools.make_output_and_plots(verbose=False)\n",
    "anim = animation_tools.animate_from_plotdir(plotdir)\n",
    "show_anim(anim)"
   ]
  },
  {
   "cell_type": "markdown",
   "metadata": {},
   "source": [
    "## Experiment 4 -- Adding a third level\n",
    "\n",
    "Let's add a third level of AMR, refining by another factor of two in each dimension going from Level 2 to Level 3.  Do this by fixing `setrun.py` to have these lines:\n",
    "\n",
    "    # max number of refinement levels:\n",
    "    amrdata.amr_levels_max = 3\n",
    "\n",
    "    # List of refinement ratios at each level:\n",
    "    amrdata.refinement_ratios_x = [2,2]\n",
    "    amrdata.refinement_ratios_y = [2,2]\n",
    "    amrdata.refinement_ratios_t = [2,2]\n",
    "    \n",
    "Note that you have to add another component to the `refinement_ratios` to give the refinement factor from Level 2 to Level 3.  The refinement ratios do not have to be 2, they can be any integer.  In general you should refine by the same factors in `x` and `y`.\n",
    "\n",
    "(*Note:* The refinement factors in `t` are actually ignored because of another line in `setrun.py` that tell GeoClaw to choose time steps appropriately at each level.)\n",
    "\n",
    "If you make this change and run the code again, you should plots like those shown below.\n",
    "\n",
    "Note that at Level 3 we are not plotting the grid lines (which would be so dense they hide the wave). Instead only the patch boundaries are shown.  Plotting behavior is controlled by parameters set in `setplot.py` explored later."
   ]
  },
  {
   "cell_type": "code",
   "execution_count": null,
   "metadata": {},
   "outputs": [],
   "source": [
    "rundata.amrdata.amr_levels_max = 3\n",
    "rundata.amrdata.refinement_ratios_x = [2,2]\n",
    "rundata.amrdata.refinement_ratios_y = [2,2]\n",
    "rundata.amrdata.refinement_ratios_t = [2,2]\n",
    "rundata.write()\n",
    "outdir,plotdir = nbtools.make_output_and_plots(verbose=False)\n",
    "anim = animation_tools.animate_from_plotdir(plotdir)\n",
    "show_anim(anim)"
   ]
  },
  {
   "cell_type": "markdown",
   "metadata": {},
   "source": [
    "## Experiment 5 -- Restricting or forcing refinement in \"regions\"\n",
    "\n",
    "In the last experiment we have resolved the tsunami fairly well everywhere.  The refinement criterion is simply the amplitude of the wave. \n",
    "\n",
    "In many applications we do not need to refine equally well everywhere, e.g. if we are only interested in modeling the effect of the tsunami on one particular coastline.  We would then like to restrict the regions where refinement to a certain level is allowed.  \n",
    "\n",
    "We might also have particular regions where we want to **force** refinement to some level, over some time period.  For example around the earthquake source region, or a region on the coast where we want fine grids even if the tsunami is small there.\n",
    "\n",
    "GeoClaw allows specifying rectangular regions in space-time over which refinement is required to be at least to Level $L_1$ and at most to level $L_2$.  Multiple regions can be specified, and this can be used in conjunction with flagging based on amplitude (whether a point is refined only to $L_1$ or to some higher level $\\leq L_2$ depends on the amplitude).  If a point lies in more than one region, the maximum of $L_1$ values and the maximum of the $L_2$ values for each region are used as limits.  See [the documentation](http://www.clawpack.org/refinement.html#specifying-amr-regions) for more information.\n",
    "\n",
    "In this experiment we will introduce 3 regions in this example.  Find these lines in `setrun.py`:\n",
    "\n",
    "    rundata.regiondata.regions = []\n",
    "    # to specify regions of refinement append lines of the form\n",
    "    #  [minlevel,maxlevel,t1,t2,x1,x2,y1,y2]\n",
    "\n",
    "    if 0:\n",
    "        # Allow only level 1 as default everywhere:\n",
    "        rundata.regiondata.regions.append([1, 1, 0., 1e9, -180, 180, -90, 90])\n",
    "\n",
    "        # Force refinement around earthquake source region for first hour:\n",
    "        rundata.regiondata.regions.append([3, 3, 0., 3600., -85,-72,-38,-25])\n",
    "\n",
    "        # Allow up to level 3 in northeastern part of domain:\n",
    "        rundata.regiondata.regions.append([1, 3, 0., 1.e9, -90,-60,-30,0])\n",
    "        \n",
    "These lines are effectively commented-out by the `if 0:`, so simply change `0` to `1` to specify the 3 regions. (`0=False, 1=True` in this context)\n",
    "\n",
    " - The first region simply sets the default to a maximum of 1 level anywhere.  \n",
    " - The second region forces refinement to Level 3 in the region around the earthquake source, but only for the first 3600 seconds.  \n",
    " - The third region allows up to 3 levels over the northeastern part of the domain ($x>-90,~y>-30$) which might be appropriate if we were only interested in the impact on the Peru coast, for example.\n",
    " \n",
    "We can set these same regions in the notebook in order to produce the plots you should observe when you rerun the code:"
   ]
  },
  {
   "cell_type": "code",
   "execution_count": null,
   "metadata": {},
   "outputs": [],
   "source": [
    "rundata.regiondata.regions = []  # empty list of regions\n",
    "\n",
    "# Allow only level 1 as default everywhere:\n",
    "rundata.regiondata.regions.append([1, 1, 0., 1e9, -180, 180, -90, 90])\n",
    "\n",
    "# Force refinement around earthquake source region for first hour:\n",
    "rundata.regiondata.regions.append([3, 3, 0., 3600., -85,-72,-38,-25])\n",
    "\n",
    "# Allow up to level 3 in northeastern part of domain:\n",
    "rundata.regiondata.regions.append([1, 3, 0., 1.e9, -90,-60,-30,0])\n",
    "\n",
    "rundata.write()\n",
    "outdir,plotdir = nbtools.make_output_and_plots(verbose=False)\n",
    "anim = animation_tools.animate_from_plotdir(plotdir)\n",
    "show_anim(anim)"
   ]
  },
  {
   "cell_type": "markdown",
   "metadata": {},
   "source": [
    "## Next step:\n",
    "\n",
    "The directory `$CLAW/apps/notebooks/geoclaw/chile2010b` explores this example further by adding some gauges to capture time series of the solution."
   ]
  },
  {
   "cell_type": "code",
   "execution_count": null,
   "metadata": {},
   "outputs": [],
   "source": []
  }
 ],
 "metadata": {
  "kernelspec": {
   "display_name": "Python [conda env:env_for_geoclaw]",
   "language": "python",
   "name": "conda-env-env_for_geoclaw-py"
  },
  "language_info": {
   "codemirror_mode": {
    "name": "ipython",
    "version": 3
   },
   "file_extension": ".py",
   "mimetype": "text/x-python",
   "name": "python",
   "nbconvert_exporter": "python",
   "pygments_lexer": "ipython3",
   "version": "3.9.4"
  }
 },
 "nbformat": 4,
 "nbformat_minor": 4
}
