{
 "cells": [
  {
   "cell_type": "code",
   "execution_count": 1,
   "metadata": {},
   "outputs": [
    {
     "name": "stdout",
     "output_type": "stream",
     "text": [
      "[[1.00000000e+00 2.48500000e+06 4.98500000e+06]\n",
      " [2.00000000e+00 2.48875000e+06 4.98500000e+06]\n",
      " [3.00000000e+00 2.49250000e+06 4.98500000e+06]\n",
      " [4.00000000e+00 2.49625000e+06 4.98500000e+06]\n",
      " [5.00000000e+00 2.50000000e+06 4.98500000e+06]\n",
      " [6.00000000e+00 2.48500000e+06 4.98666667e+06]\n",
      " [7.00000000e+00 2.48875000e+06 4.98666667e+06]\n",
      " [8.00000000e+00 2.49250000e+06 4.98666667e+06]\n",
      " [9.00000000e+00 2.49625000e+06 4.98666667e+06]\n",
      " [1.00000000e+01 2.50000000e+06 4.98666667e+06]\n",
      " [1.10000000e+01 2.48500000e+06 4.98833333e+06]\n",
      " [1.20000000e+01 2.48875000e+06 4.98833333e+06]\n",
      " [1.30000000e+01 2.49250000e+06 4.98833333e+06]\n",
      " [1.40000000e+01 2.49625000e+06 4.98833333e+06]\n",
      " [1.50000000e+01 2.50000000e+06 4.98833333e+06]\n",
      " [1.60000000e+01 2.48500000e+06 4.99000000e+06]\n",
      " [1.70000000e+01 2.48875000e+06 4.99000000e+06]\n",
      " [1.80000000e+01 2.49250000e+06 4.99000000e+06]\n",
      " [1.90000000e+01 2.49625000e+06 4.99000000e+06]\n",
      " [2.00000000e+01 2.50000000e+06 4.99000000e+06]\n",
      " [2.10000000e+01 2.48500000e+06 4.99166667e+06]\n",
      " [2.20000000e+01 2.48875000e+06 4.99166667e+06]\n",
      " [2.30000000e+01 2.49250000e+06 4.99166667e+06]\n",
      " [2.40000000e+01 2.49625000e+06 4.99166667e+06]\n",
      " [2.50000000e+01 2.50000000e+06 4.99166667e+06]\n",
      " [2.60000000e+01 2.48500000e+06 4.99333333e+06]\n",
      " [2.70000000e+01 2.48875000e+06 4.99333333e+06]\n",
      " [2.80000000e+01 2.49250000e+06 4.99333333e+06]\n",
      " [2.90000000e+01 2.49625000e+06 4.99333333e+06]\n",
      " [3.00000000e+01 2.50000000e+06 4.99333333e+06]\n",
      " [3.10000000e+01 2.48500000e+06 4.99500000e+06]\n",
      " [3.20000000e+01 2.48875000e+06 4.99500000e+06]\n",
      " [3.30000000e+01 2.49250000e+06 4.99500000e+06]\n",
      " [3.40000000e+01 2.49625000e+06 4.99500000e+06]\n",
      " [3.50000000e+01 2.50000000e+06 4.99500000e+06]\n",
      " [3.60000000e+01 2.48500000e+06 4.99666667e+06]\n",
      " [3.70000000e+01 2.48875000e+06 4.99666667e+06]\n",
      " [3.80000000e+01 2.49250000e+06 4.99666667e+06]\n",
      " [3.90000000e+01 2.49625000e+06 4.99666667e+06]\n",
      " [4.00000000e+01 2.50000000e+06 4.99666667e+06]\n",
      " [4.10000000e+01 2.48500000e+06 4.99833333e+06]\n",
      " [4.20000000e+01 2.48875000e+06 4.99833333e+06]\n",
      " [4.30000000e+01 2.49250000e+06 4.99833333e+06]\n",
      " [4.40000000e+01 2.49625000e+06 4.99833333e+06]\n",
      " [4.50000000e+01 2.50000000e+06 4.99833333e+06]\n",
      " [4.60000000e+01 2.48500000e+06 5.00000000e+06]\n",
      " [4.70000000e+01 2.48875000e+06 5.00000000e+06]\n",
      " [4.80000000e+01 2.49250000e+06 5.00000000e+06]\n",
      " [4.90000000e+01 2.49625000e+06 5.00000000e+06]\n",
      " [5.00000000e+01 2.50000000e+06 5.00000000e+06]]\n"
     ]
    }
   ],
   "source": [
    "import numpy as np\n",
    "gauges_y = np.linspace(4985*1000,5000*1000,num = 10)\n",
    "gauges_x = np.linspace(2485*1000,2500*1000,num = 5)\n",
    "gauge_points = np.zeros((1,3))\n",
    "# gauge_points = np.append(gauge_points,[[1,2,3]],axis = 0)\n",
    "# print(gauge_points)\n",
    "# print(gauge_points.shape)\n",
    "    \n",
    "gauge_num=1\n",
    "for iy in range(len(gauges_y)):\n",
    "    for ix in range(len(gauges_x)):\n",
    "        gauge_points = np.append(gauge_points,[[gauge_num, gauges_x[ix], gauges_y[iy]]],axis=0)\n",
    "        gauge_num+=1\n",
    "\n",
    "gauge_points = np.delete(gauge_points,0,0)\n",
    "print(gauge_points)"
   ]
  },
  {
   "cell_type": "code",
   "execution_count": 10,
   "metadata": {},
   "outputs": [
    {
     "name": "stdout",
     "output_type": "stream",
     "text": [
      "1 2492500.0 4985700.0\n",
      "2 2492500.0 4986300.0\n",
      "3 2492500.0 4989800.0\n",
      "4 2492500.0 4994300.0\n",
      "5 2492500.0 4999800.0\n",
      "6 2492500.0 4988000.0\n",
      "7 2500000.0 4994300.0\n",
      "8 2498500.0 4994300.0\n"
     ]
    }
   ],
   "source": [
    "import numpy as np\n",
    "gauge_points = np.array([[(5000-30)*1000+15700,(5000-30)*1000+16300,(5000-30)*1000+19800,(5000-30)*1000+24300,(5000-30)*1000+29800,(5000-30)*1000+18000,(5000-30)*1000+24300,(5000-30)*1000+24300],\n",
    "                         [2492.5*1000,2492.5*1000,2492.5*1000,2492.5*1000,2492.5*1000,2492.5*1000,2500*1000,(2500-1.5)*1000]])\n",
    "\n",
    "gauge_points = np.transpose(gauge_points)\n",
    "gauge_points = np.flip(gauge_points,1)\n",
    "\n",
    "# print(gauge_points)\n",
    "for row in range(len(gauge_points)):\n",
    "            print(int(row+1), gauge_points[row,0], gauge_points[row,1])"
   ]
  },
  {
   "cell_type": "code",
   "execution_count": 6,
   "metadata": {},
   "outputs": [
    {
     "data": {
      "image/png": "[encoded data removed]",
      "text/plain": [
       "<Figure size 432x288 with 2 Axes>"
      ]
     },
     "metadata": {
      "needs_background": "light"
     },
     "output_type": "display_data"
    }
   ],
   "source": [
    "# Plotting the fine resolution\n",
    "# Here I plot the file\n",
    "\n",
    "import numpy\n",
    "import os\n",
    "import matplotlib.pyplot as plt\n",
    "import matplotlib.colors as colors\n",
    "\n",
    "from clawpack.visclaw import plottools\n",
    "import clawpack.visclaw.colormaps as colormaps\n",
    "import clawpack.geoclaw.topotools as tt\n",
    "\n",
    "syn_file_dir = '/home/jovyan/data/topo_files_output/'\n",
    "path = os.path.join(syn_file_dir, 'Mel_s_b_27_m.txt' )\n",
    "\n",
    "# Load topography\n",
    "topo = tt.Topography(path, topo_type=3)\n",
    "# topo = topo.crop(filter_region=None, coarsen=100)\n",
    "\n",
    "# Plot settings\n",
    "data_break = 0.0\n",
    "topo_extent = (numpy.min(topo.Z), numpy.max(topo.Z))\n",
    "region_extent = topo.extent\n",
    "\n",
    "# Make colormap\n",
    "land_cmap = colormaps.make_colormap({ 0.0:[0.1,0.4,0.0],\n",
    "                                                 0.25:[0.0,1.0,0.0],\n",
    "                                                  0.5:[0.8,1.0,0.5],\n",
    "                                                  1.0:[0.8,0.5,0.2]})\n",
    "sea_cmap = plt.get_cmap('Blues_r')\n",
    "cmap, norm = colormaps.add_colormaps((land_cmap, sea_cmap), \n",
    "                                     data_limits=topo_extent,\n",
    "                                     data_break=data_break)\n",
    "\n",
    "# Plot topo\n",
    "fig = plt.figure()\n",
    "axes = fig.add_subplot(1, 1, 1)\n",
    "plot = plottools.pcolorcells(topo.X, topo.Y, topo.Z, axes=axes, norm=norm, cmap=cmap)\n",
    "cbar = plt.colorbar(plot, ax=axes)\n",
    "\n",
    "# expand extent to include full cells, which are centered at X,Y:\n",
    "x1 = topo.x.min() - topo.delta[0]/2.\n",
    "x2 = topo.x.max() + topo.delta[0]/2.\n",
    "y1 = topo.y.min() - topo.delta[1]/2.\n",
    "y2 = topo.y.max() + topo.delta[1]/2.\n",
    "\n",
    "axes.set_xlim(x1,x2)\n",
    "axes.set_ylim(y1,y2)\n",
    "\n",
    "# Set aspect\n",
    "mean_coord = 0.5 * (region_extent[3] + region_extent[2])\n",
    "# axes.set_aspect(1.0 / numpy.cos(numpy.pi / 180.0 * mean_lat))\n",
    "axes.set_aspect('equal')\n",
    "\n",
    "# plt.plot(gauge_points[:,1],gauge_points[:,2],'r.')\n",
    "plt.plot(gauge_points[:,0],gauge_points[:,1],'r.')\n",
    "\n",
    "plt.show()\n",
    "#plt.savefig(os.path.join(syn_file_dir, 'Melbourne_FL_m.png')) "
   ]
  },
  {
   "cell_type": "code",
   "execution_count": null,
   "metadata": {},
   "outputs": [],
   "source": [
    "\n",
    "# Plot settings\n",
    "data_break = 0.0\n",
    "topo_extent = (numpy.min(topo.Z), numpy.max(topo.Z))\n",
    "region_extent = topo.extent\n",
    "\n",
    "# Make colormap\n",
    "land_cmap = colormaps.make_colormap({ 0.0:[0.1,0.4,0.0],\n",
    "                                                 0.25:[0.0,1.0,0.0],\n",
    "                                                  0.5:[0.8,1.0,0.5],\n",
    "                                                  1.0:[0.8,0.5,0.2]})\n",
    "sea_cmap = plt.get_cmap('Blues_r')\n",
    "cmap, norm = colormaps.add_colormaps((land_cmap, sea_cmap), \n",
    "                                     data_limits=topo_extent,\n",
    "                                     data_break=data_break)\n",
    "\n",
    "# Plot topo\n",
    "fig = plt.figure()\n",
    "axes = fig.add_subplot(1, 1, 1)\n",
    "plot = plottools.pcolorcells(topo.X, topo.Y, topo.Z, axes=axes, norm=norm, cmap=cmap)\n",
    "cbar = plt.colorbar(plot, ax=axes)\n",
    "\n",
    "# expand extent to include full cells, which are centered at X,Y:\n",
    "x1 = topo.x.min() - topo.delta[0]/2.\n",
    "x2 = topo.x.max() + topo.delta[0]/2.\n",
    "y1 = topo.y.min() - topo.delta[1]/2.\n",
    "y2 = topo.y.max() + topo.delta[1]/2.\n",
    "\n",
    "axes.set_xlim(x1,x2)\n",
    "axes.set_ylim(y1,y2)\n",
    "\n",
    "# Set aspect\n",
    "mean_coord = 0.5 * (region_extent[3] + region_extent[2])\n",
    "# axes.set_aspect(1.0 / numpy.cos(numpy.pi / 180.0 * mean_lat))\n",
    "axes.set_aspect('equal')\n",
    "\n",
    "# plt.plot(gauge_points[:,1],gauge_points[:,2],'r.')\n",
    "plt.plot(gauge_points[:,0],gauge_points[:,1],'r.')\n",
    "\n",
    "plt.show()"
   ]
  },
  {
   "cell_type": "code",
   "execution_count": null,
   "metadata": {},
   "outputs": [],
   "source": [
    "import numpy as np\n",
    "np.linspace(1,50).astype(int)"
   ]
  },
  {
   "cell_type": "code",
   "execution_count": null,
   "metadata": {},
   "outputs": [],
   "source": []
  }
 ],
 "metadata": {
  "kernelspec": {
   "display_name": "Python [conda env:gcenv]",
   "language": "python",
   "name": "conda-env-gcenv-py"
  },
  "language_info": {
   "codemirror_mode": {
    "name": "ipython",
    "version": 3
   },
   "file_extension": ".py",
   "mimetype": "text/x-python",
   "name": "python",
   "nbconvert_exporter": "python",
   "pygments_lexer": "ipython3",
   "version": "3.8.6"
  }
 },
 "nbformat": 4,
 "nbformat_minor": 4
}
