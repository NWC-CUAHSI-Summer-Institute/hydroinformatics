{
 "cells": [
  {
   "cell_type": "markdown",
   "metadata": {},
   "source": [
    "# GeoClaw topotools examples"
   ]
  },
  {
   "cell_type": "markdown",
   "metadata": {},
   "source": [
    "This [Jupyter notebook](http://www.jupyter.org) can be found in [collection of Clawpack apps](http://www.clawpack.org/apps.html) as the file [`$CLAW/apps/notebooks/geoclaw/topotools_examples.ipynb`](https://github.com/clawpack/apps/tree/master/notebooks/geoclaw/topotools_examples.ipynb).  \n",
    "To run this notebook, [install Clawpack](http://www.clawpack.org/installing.html), and clone the [apps repository](https://github.com/clawpack/apps).\n",
    "A static view of this and other notebooks can be found in the [Clawpack Gallery of Jupyter notebooks](http://www.clawpack.org/gallery/notebooks.html)."
   ]
  },
  {
   "cell_type": "code",
   "execution_count": null,
   "metadata": {
    "jupyter": {
     "source_hidden": true
    }
   },
   "outputs": [],
   "source": [
    "This notebook contains some examples of working with the *clawpack.geoclaw.topotools* module.  These tools facilitate creating and manipulating the *topo* files that are required as GeoClaw input to specify topography and bathymetry (underwater topography).\n",
    "\n",
    "See <http://www.clawpack.org/topotools_module.html> for general documentation of these tools and their use in the context of GeoClaw, and <http://www.clawpack.org> for more information on the Clawpack suite of software."
   ]
  },
  {
   "cell_type": "markdown",
   "metadata": {},
   "source": [
    "## Contents\n",
    "\n",
    " - <a href=\"#fetch\">Fetching a topo file from the web</a>\n",
    " - <a href=\"#read\">Reading a topo file</a>\n",
    " - <a href=\"#plot\">Plotting topography data</a>\n",
    " - <a href=\"#crop\">Cropping topography</a>\n",
    " - <a href=\"#coarsen\">Coarsening topography</a>\n",
    " - <a href=\"#unstructured\">Unstructured topography</a>"
   ]
  },
  {
   "cell_type": "markdown",
   "metadata": {},
   "source": [
    "### Setup notebook and environment:"
   ]
  },
  {
   "cell_type": "code",
   "execution_count": 1,
   "metadata": {},
   "outputs": [
    {
     "name": "stdout",
     "output_type": "stream",
     "text": [
      "Populating the interactive namespace from numpy and matplotlib\n"
     ]
    }
   ],
   "source": [
    "%pylab inline"
   ]
  },
  {
   "cell_type": "code",
   "execution_count": 2,
   "metadata": {},
   "outputs": [],
   "source": [
    "from __future__ import print_function\n",
    "from clawpack.geoclaw import topotools\n",
    "import os\n",
    "CLAW = os.environ['CLAW']\n",
    "datadir = os.path.join(CLAW,'geoclaw','scratch') # directory for some sample data files"
   ]
  },
  {
   "cell_type": "markdown",
   "metadata": {},
   "source": [
    "<div id=\"fetch\"></div>\n",
    "## Fetching a topo file from the web\n",
    "\n",
    "Many GeoClaw examples are set up to use topography files that have already been created and archived on the web, e.g. the example found in `$CLAW/geoclaw/examples/tsunami/chile2010` uses a topo file that can be obtained by these commands (which are also found in the Python script `maketopo.py` found in that directory):"
   ]
  },
  {
   "cell_type": "code",
   "execution_count": null,
   "metadata": {},
   "outputs": [],
   "source": [
    "#from clawpack.clawutil.data import get_remote_file\n",
    "#filename = 'etopo10min120W60W60S0S.asc'\n",
    "#url = 'http://depts.washington.edu/clawpack/geoclaw/topo/etopo/' + filename\n",
    "#get_remote_file(url=url, output_dir=datadir, force=True, verbose=True)"
   ]
  },
  {
   "cell_type": "code",
   "execution_count": null,
   "metadata": {},
   "outputs": [],
   "source": [
    "# Topo sample file location (Lets us say, we have a dataframe, lets change it to a topo file)\n",
    "#import pandas as pd\n",
    "#sample_file_dir = '/home/jovyan/data/hydroinformatics/syn_topo/data/'\n",
    "#sample_file_path = os.path.join(sample_file_dir, 'Melbourne.txt' )\n",
    "#Melbourne_sample = pd.read_csv(sample_file_path)\n",
    "#Melbourne_sample\n",
    "\n",
    "#sample_file_path = os.path.join(sample_file_dir, 'Sample_synthetic_file.csv' )\n",
    "#Sample_synthetic = pd.read_csv(sample_file_path)\n",
    "\n",
    "#df_sample = pandas.read_csv(sample_file_path) \n",
    "#row_numbers = len(df_sample)\n",
    "#col_numbers = len(df_sample.columns)"
   ]
  },
  {
   "cell_type": "code",
   "execution_count": 3,
   "metadata": {},
   "outputs": [
    {
     "data": {
      "text/plain": [
       "array([    0,     3,     6, ..., 30054, 30057, 30060])"
      ]
     },
     "execution_count": 3,
     "metadata": {},
     "output_type": "execute_result"
    }
   ],
   "source": [
    "# Creating synthetic topo files (From the elevation profile of sample sites by fitting splines)\n",
    "\n",
    "import numpy as np\n",
    "from scipy.interpolate import CubicSpline\n",
    "from matplotlib import pyplot as plt\n",
    "\n",
    "#%%\n",
    "import pandas as pd\n",
    "import os\n",
    "datadir = os.path.join('/home/jovyan/data/hydroinformatics/syn_topo/data') # directory for some sample data files\n",
    "#filename = 'Elevation_profile2.csv'\n",
    "filename = \"Shallotte_profile.csv\"\n",
    "filepath = os.path.join(datadir, filename)\n",
    "df = pd.read_csv(filepath)\n",
    "\n",
    "#%%\n",
    "elev = df.loc[:,'Elevation']\n",
    "dist = (df.loc[:,'X_axis']-1)*3\n",
    "dist = (dist-max(dist))*(-1)\n",
    "#%%\n",
    "#Create spline model\n",
    "\n",
    "cs = CubicSpline(dist,elev)\n",
    "\n",
    "syn_elev = cs(dist)\n",
    "\n",
    "\n",
    "#%%\n",
    "# Making it 3D\n",
    "\n",
    "y = dist.to_numpy()\n",
    "# x = np.linspace(0,5,num=len(y))\n",
    "x = y\n",
    "z = np.zeros((len(x),len(y)))\n",
    "xyz = np.zeros((1,3))\n",
    "\n",
    "\n",
    "#%%\n",
    "# Defining the shorline shoreline (z=0 contour)\n",
    "below_sl = elev<0\n",
    "below_sl = below_sl.to_numpy()\n",
    "base_shore = int(max(np.argwhere(below_sl)))\n",
    "y_bs = y[base_shore]\n",
    "x_max = max(x)\n",
    "y_max = max(y)\n",
    "s = y_bs+5000*abs(np.sin(x*2*np.pi/x_max)) #curved with point\n",
    "# add in triangular bay centered at x = x_bay\n",
    "# s = y*0\n",
    "# x_bay = x_max/2\n",
    "# bay_width = 1000\n",
    "# bay_height = 5000\n",
    "# out_bay = np.logical_or(x<(x_bay-bay_width/2),x>(x_bay+bay_width/2))\n",
    "# in_bay = out_bay==False\n",
    "# s[out_bay]= y_bs\n",
    "# s[in_bay] = y_bs+5000-abs(x[in_bay]-x_bay)*bay_height/(bay_width/2)\n",
    "# plt.plot(x,s)\n",
    "# plt.ylim([0,30000])\n",
    "#%%\n",
    "\n",
    "col=1\n",
    "# to make 2d grid of z values\n",
    "for col in range(z.shape[0]):\n",
    "    # z[:,col]=syn_elev*abs(np.sin(10*x[col]))\n",
    "    # z[:,col]=syn_elev*x[col]\n",
    "    # z[:,col]=syn_elev+5*(np.sin(x[col]*np.pi/x_max))\n",
    "    z[:,col]=syn_elev\n",
    "    # ynew = y-s[col]+y_bs\n",
    "    # ynew[ynew<0]=0\n",
    "    # ynew[ynew>y_max]=y_max\n",
    "    # z[:,col]=cs(ynew)\n",
    "x\n",
    "y"
   ]
  },
  {
   "cell_type": "code",
   "execution_count": 4,
   "metadata": {},
   "outputs": [
    {
     "ename": "KeyboardInterrupt",
     "evalue": "",
     "output_type": "error",
     "traceback": [
      "\u001b[0;31m---------------------------------------------------------------------------\u001b[0m",
      "\u001b[0;31mKeyboardInterrupt\u001b[0m                         Traceback (most recent call last)",
      "\u001b[0;32m<ipython-input-4-7849393eb616>\u001b[0m in \u001b[0;36m<module>\u001b[0;34m\u001b[0m\n\u001b[1;32m      2\u001b[0m \u001b[0mfile_out_dir\u001b[0m \u001b[0;34m=\u001b[0m \u001b[0;34m'/home/jovyan/data/topo_files_output/'\u001b[0m\u001b[0;34m\u001b[0m\u001b[0;34m\u001b[0m\u001b[0m\n\u001b[1;32m      3\u001b[0m \u001b[0mfile_out_path\u001b[0m \u001b[0;34m=\u001b[0m \u001b[0mos\u001b[0m\u001b[0;34m.\u001b[0m\u001b[0mpath\u001b[0m\u001b[0;34m.\u001b[0m\u001b[0mjoin\u001b[0m\u001b[0;34m(\u001b[0m\u001b[0mfile_out_dir\u001b[0m\u001b[0;34m,\u001b[0m \u001b[0;34m'Syn_topo_org.txt'\u001b[0m\u001b[0;34m)\u001b[0m\u001b[0;34m\u001b[0m\u001b[0;34m\u001b[0m\u001b[0m\n\u001b[0;32m----> 4\u001b[0;31m \u001b[0mpd\u001b[0m\u001b[0;34m.\u001b[0m\u001b[0mDataFrame\u001b[0m\u001b[0;34m(\u001b[0m\u001b[0mz\u001b[0m\u001b[0;34m)\u001b[0m\u001b[0;34m.\u001b[0m\u001b[0mto_csv\u001b[0m\u001b[0;34m(\u001b[0m\u001b[0mfile_out_path\u001b[0m\u001b[0;34m,\u001b[0m \u001b[0msep\u001b[0m\u001b[0;34m=\u001b[0m\u001b[0;34m'\\t'\u001b[0m\u001b[0;34m,\u001b[0m \u001b[0mindex\u001b[0m\u001b[0;34m=\u001b[0m\u001b[0;32mFalse\u001b[0m\u001b[0;34m,\u001b[0m \u001b[0mheader\u001b[0m \u001b[0;34m=\u001b[0m \u001b[0;32mFalse\u001b[0m\u001b[0;34m)\u001b[0m\u001b[0;34m\u001b[0m\u001b[0;34m\u001b[0m\u001b[0m\n\u001b[0m",
      "\u001b[0;32m~/conda-envs/env_for_geoclaw/lib/python3.9/site-packages/pandas/core/generic.py\u001b[0m in \u001b[0;36mto_csv\u001b[0;34m(self, path_or_buf, sep, na_rep, float_format, columns, header, index, index_label, mode, encoding, compression, quoting, quotechar, line_terminator, chunksize, date_format, doublequote, escapechar, decimal, errors, storage_options)\u001b[0m\n\u001b[1;32m   3385\u001b[0m         )\n\u001b[1;32m   3386\u001b[0m \u001b[0;34m\u001b[0m\u001b[0m\n\u001b[0;32m-> 3387\u001b[0;31m         return DataFrameRenderer(formatter).to_csv(\n\u001b[0m\u001b[1;32m   3388\u001b[0m             \u001b[0mpath_or_buf\u001b[0m\u001b[0;34m,\u001b[0m\u001b[0;34m\u001b[0m\u001b[0;34m\u001b[0m\u001b[0m\n\u001b[1;32m   3389\u001b[0m             \u001b[0mline_terminator\u001b[0m\u001b[0;34m=\u001b[0m\u001b[0mline_terminator\u001b[0m\u001b[0;34m,\u001b[0m\u001b[0;34m\u001b[0m\u001b[0;34m\u001b[0m\u001b[0m\n",
      "\u001b[0;32m~/conda-envs/env_for_geoclaw/lib/python3.9/site-packages/pandas/io/formats/format.py\u001b[0m in \u001b[0;36mto_csv\u001b[0;34m(self, path_or_buf, encoding, sep, columns, index_label, mode, compression, quoting, quotechar, line_terminator, chunksize, date_format, doublequote, escapechar, errors, storage_options)\u001b[0m\n\u001b[1;32m   1081\u001b[0m             \u001b[0mformatter\u001b[0m\u001b[0;34m=\u001b[0m\u001b[0mself\u001b[0m\u001b[0;34m.\u001b[0m\u001b[0mfmt\u001b[0m\u001b[0;34m,\u001b[0m\u001b[0;34m\u001b[0m\u001b[0;34m\u001b[0m\u001b[0m\n\u001b[1;32m   1082\u001b[0m         )\n\u001b[0;32m-> 1083\u001b[0;31m         \u001b[0mcsv_formatter\u001b[0m\u001b[0;34m.\u001b[0m\u001b[0msave\u001b[0m\u001b[0;34m(\u001b[0m\u001b[0;34m)\u001b[0m\u001b[0;34m\u001b[0m\u001b[0;34m\u001b[0m\u001b[0m\n\u001b[0m\u001b[1;32m   1084\u001b[0m \u001b[0;34m\u001b[0m\u001b[0m\n\u001b[1;32m   1085\u001b[0m         \u001b[0;32mif\u001b[0m \u001b[0mcreated_buffer\u001b[0m\u001b[0;34m:\u001b[0m\u001b[0;34m\u001b[0m\u001b[0;34m\u001b[0m\u001b[0m\n",
      "\u001b[0;32m~/conda-envs/env_for_geoclaw/lib/python3.9/site-packages/pandas/io/formats/csvs.py\u001b[0m in \u001b[0;36msave\u001b[0;34m(self)\u001b[0m\n\u001b[1;32m    246\u001b[0m             )\n\u001b[1;32m    247\u001b[0m \u001b[0;34m\u001b[0m\u001b[0m\n\u001b[0;32m--> 248\u001b[0;31m             \u001b[0mself\u001b[0m\u001b[0;34m.\u001b[0m\u001b[0m_save\u001b[0m\u001b[0;34m(\u001b[0m\u001b[0;34m)\u001b[0m\u001b[0;34m\u001b[0m\u001b[0;34m\u001b[0m\u001b[0m\n\u001b[0m\u001b[1;32m    249\u001b[0m \u001b[0;34m\u001b[0m\u001b[0m\n\u001b[1;32m    250\u001b[0m     \u001b[0;32mdef\u001b[0m \u001b[0m_save\u001b[0m\u001b[0;34m(\u001b[0m\u001b[0mself\u001b[0m\u001b[0;34m)\u001b[0m \u001b[0;34m->\u001b[0m \u001b[0;32mNone\u001b[0m\u001b[0;34m:\u001b[0m\u001b[0;34m\u001b[0m\u001b[0;34m\u001b[0m\u001b[0m\n",
      "\u001b[0;32m~/conda-envs/env_for_geoclaw/lib/python3.9/site-packages/pandas/io/formats/csvs.py\u001b[0m in \u001b[0;36m_save\u001b[0;34m(self)\u001b[0m\n\u001b[1;32m    251\u001b[0m         \u001b[0;32mif\u001b[0m \u001b[0mself\u001b[0m\u001b[0;34m.\u001b[0m\u001b[0m_need_to_save_header\u001b[0m\u001b[0;34m:\u001b[0m\u001b[0;34m\u001b[0m\u001b[0;34m\u001b[0m\u001b[0m\n\u001b[1;32m    252\u001b[0m             \u001b[0mself\u001b[0m\u001b[0;34m.\u001b[0m\u001b[0m_save_header\u001b[0m\u001b[0;34m(\u001b[0m\u001b[0;34m)\u001b[0m\u001b[0;34m\u001b[0m\u001b[0;34m\u001b[0m\u001b[0m\n\u001b[0;32m--> 253\u001b[0;31m         \u001b[0mself\u001b[0m\u001b[0;34m.\u001b[0m\u001b[0m_save_body\u001b[0m\u001b[0;34m(\u001b[0m\u001b[0;34m)\u001b[0m\u001b[0;34m\u001b[0m\u001b[0;34m\u001b[0m\u001b[0m\n\u001b[0m\u001b[1;32m    254\u001b[0m \u001b[0;34m\u001b[0m\u001b[0m\n\u001b[1;32m    255\u001b[0m     \u001b[0;32mdef\u001b[0m \u001b[0m_save_header\u001b[0m\u001b[0;34m(\u001b[0m\u001b[0mself\u001b[0m\u001b[0;34m)\u001b[0m \u001b[0;34m->\u001b[0m \u001b[0;32mNone\u001b[0m\u001b[0;34m:\u001b[0m\u001b[0;34m\u001b[0m\u001b[0;34m\u001b[0m\u001b[0m\n",
      "\u001b[0;32m~/conda-envs/env_for_geoclaw/lib/python3.9/site-packages/pandas/io/formats/csvs.py\u001b[0m in \u001b[0;36m_save_body\u001b[0;34m(self)\u001b[0m\n\u001b[1;32m    289\u001b[0m             \u001b[0;32mif\u001b[0m \u001b[0mstart_i\u001b[0m \u001b[0;34m>=\u001b[0m \u001b[0mend_i\u001b[0m\u001b[0;34m:\u001b[0m\u001b[0;34m\u001b[0m\u001b[0;34m\u001b[0m\u001b[0m\n\u001b[1;32m    290\u001b[0m                 \u001b[0;32mbreak\u001b[0m\u001b[0;34m\u001b[0m\u001b[0;34m\u001b[0m\u001b[0m\n\u001b[0;32m--> 291\u001b[0;31m             \u001b[0mself\u001b[0m\u001b[0;34m.\u001b[0m\u001b[0m_save_chunk\u001b[0m\u001b[0;34m(\u001b[0m\u001b[0mstart_i\u001b[0m\u001b[0;34m,\u001b[0m \u001b[0mend_i\u001b[0m\u001b[0;34m)\u001b[0m\u001b[0;34m\u001b[0m\u001b[0;34m\u001b[0m\u001b[0m\n\u001b[0m\u001b[1;32m    292\u001b[0m \u001b[0;34m\u001b[0m\u001b[0m\n\u001b[1;32m    293\u001b[0m     \u001b[0;32mdef\u001b[0m \u001b[0m_save_chunk\u001b[0m\u001b[0;34m(\u001b[0m\u001b[0mself\u001b[0m\u001b[0;34m,\u001b[0m \u001b[0mstart_i\u001b[0m\u001b[0;34m:\u001b[0m \u001b[0mint\u001b[0m\u001b[0;34m,\u001b[0m \u001b[0mend_i\u001b[0m\u001b[0;34m:\u001b[0m \u001b[0mint\u001b[0m\u001b[0;34m)\u001b[0m \u001b[0;34m->\u001b[0m \u001b[0;32mNone\u001b[0m\u001b[0;34m:\u001b[0m\u001b[0;34m\u001b[0m\u001b[0;34m\u001b[0m\u001b[0m\n",
      "\u001b[0;32m~/conda-envs/env_for_geoclaw/lib/python3.9/site-packages/pandas/io/formats/csvs.py\u001b[0m in \u001b[0;36m_save_chunk\u001b[0;34m(self, start_i, end_i)\u001b[0m\n\u001b[1;32m    296\u001b[0m         \u001b[0mdf\u001b[0m \u001b[0;34m=\u001b[0m \u001b[0mself\u001b[0m\u001b[0;34m.\u001b[0m\u001b[0mobj\u001b[0m\u001b[0;34m.\u001b[0m\u001b[0miloc\u001b[0m\u001b[0;34m[\u001b[0m\u001b[0mslicer\u001b[0m\u001b[0;34m]\u001b[0m\u001b[0;34m\u001b[0m\u001b[0;34m\u001b[0m\u001b[0m\n\u001b[1;32m    297\u001b[0m \u001b[0;34m\u001b[0m\u001b[0m\n\u001b[0;32m--> 298\u001b[0;31m         \u001b[0mres\u001b[0m \u001b[0;34m=\u001b[0m \u001b[0mdf\u001b[0m\u001b[0;34m.\u001b[0m\u001b[0m_mgr\u001b[0m\u001b[0;34m.\u001b[0m\u001b[0mto_native_types\u001b[0m\u001b[0;34m(\u001b[0m\u001b[0;34m**\u001b[0m\u001b[0mself\u001b[0m\u001b[0;34m.\u001b[0m\u001b[0m_number_format\u001b[0m\u001b[0;34m)\u001b[0m\u001b[0;34m\u001b[0m\u001b[0;34m\u001b[0m\u001b[0m\n\u001b[0m\u001b[1;32m    299\u001b[0m         \u001b[0mdata\u001b[0m \u001b[0;34m=\u001b[0m \u001b[0;34m[\u001b[0m\u001b[0mres\u001b[0m\u001b[0;34m.\u001b[0m\u001b[0miget_values\u001b[0m\u001b[0;34m(\u001b[0m\u001b[0mi\u001b[0m\u001b[0;34m)\u001b[0m \u001b[0;32mfor\u001b[0m \u001b[0mi\u001b[0m \u001b[0;32min\u001b[0m \u001b[0mrange\u001b[0m\u001b[0;34m(\u001b[0m\u001b[0mlen\u001b[0m\u001b[0;34m(\u001b[0m\u001b[0mres\u001b[0m\u001b[0;34m.\u001b[0m\u001b[0mitems\u001b[0m\u001b[0;34m)\u001b[0m\u001b[0;34m)\u001b[0m\u001b[0;34m]\u001b[0m\u001b[0;34m\u001b[0m\u001b[0;34m\u001b[0m\u001b[0m\n\u001b[1;32m    300\u001b[0m \u001b[0;34m\u001b[0m\u001b[0m\n",
      "\u001b[0;32m~/conda-envs/env_for_geoclaw/lib/python3.9/site-packages/pandas/core/internals/managers.py\u001b[0m in \u001b[0;36mto_native_types\u001b[0;34m(self, **kwargs)\u001b[0m\n\u001b[1;32m    677\u001b[0m         \u001b[0;32min\u001b[0m \u001b[0mformatting\u001b[0m \u001b[0;34m(\u001b[0m\u001b[0mrepr\u001b[0m \u001b[0;34m/\u001b[0m \u001b[0mcsv\u001b[0m\u001b[0;34m)\u001b[0m\u001b[0;34m.\u001b[0m\u001b[0;34m\u001b[0m\u001b[0;34m\u001b[0m\u001b[0m\n\u001b[1;32m    678\u001b[0m         \"\"\"\n\u001b[0;32m--> 679\u001b[0;31m         \u001b[0;32mreturn\u001b[0m \u001b[0mself\u001b[0m\u001b[0;34m.\u001b[0m\u001b[0mapply\u001b[0m\u001b[0;34m(\u001b[0m\u001b[0;34m\"to_native_types\"\u001b[0m\u001b[0;34m,\u001b[0m \u001b[0;34m**\u001b[0m\u001b[0mkwargs\u001b[0m\u001b[0;34m)\u001b[0m\u001b[0;34m\u001b[0m\u001b[0;34m\u001b[0m\u001b[0m\n\u001b[0m\u001b[1;32m    680\u001b[0m \u001b[0;34m\u001b[0m\u001b[0m\n\u001b[1;32m    681\u001b[0m     \u001b[0;32mdef\u001b[0m \u001b[0mis_consolidated\u001b[0m\u001b[0;34m(\u001b[0m\u001b[0mself\u001b[0m\u001b[0;34m)\u001b[0m \u001b[0;34m->\u001b[0m \u001b[0mbool\u001b[0m\u001b[0;34m:\u001b[0m\u001b[0;34m\u001b[0m\u001b[0;34m\u001b[0m\u001b[0m\n",
      "\u001b[0;32m~/conda-envs/env_for_geoclaw/lib/python3.9/site-packages/pandas/core/internals/managers.py\u001b[0m in \u001b[0;36mapply\u001b[0;34m(self, f, align_keys, ignore_failures, **kwargs)\u001b[0m\n\u001b[1;32m    425\u001b[0m                     \u001b[0mapplied\u001b[0m \u001b[0;34m=\u001b[0m \u001b[0mb\u001b[0m\u001b[0;34m.\u001b[0m\u001b[0mapply\u001b[0m\u001b[0;34m(\u001b[0m\u001b[0mf\u001b[0m\u001b[0;34m,\u001b[0m \u001b[0;34m**\u001b[0m\u001b[0mkwargs\u001b[0m\u001b[0;34m)\u001b[0m\u001b[0;34m\u001b[0m\u001b[0;34m\u001b[0m\u001b[0m\n\u001b[1;32m    426\u001b[0m                 \u001b[0;32melse\u001b[0m\u001b[0;34m:\u001b[0m\u001b[0;34m\u001b[0m\u001b[0;34m\u001b[0m\u001b[0m\n\u001b[0;32m--> 427\u001b[0;31m                     \u001b[0mapplied\u001b[0m \u001b[0;34m=\u001b[0m \u001b[0mgetattr\u001b[0m\u001b[0;34m(\u001b[0m\u001b[0mb\u001b[0m\u001b[0;34m,\u001b[0m \u001b[0mf\u001b[0m\u001b[0;34m)\u001b[0m\u001b[0;34m(\u001b[0m\u001b[0;34m**\u001b[0m\u001b[0mkwargs\u001b[0m\u001b[0;34m)\u001b[0m\u001b[0;34m\u001b[0m\u001b[0;34m\u001b[0m\u001b[0m\n\u001b[0m\u001b[1;32m    428\u001b[0m             \u001b[0;32mexcept\u001b[0m \u001b[0;34m(\u001b[0m\u001b[0mTypeError\u001b[0m\u001b[0;34m,\u001b[0m \u001b[0mNotImplementedError\u001b[0m\u001b[0;34m)\u001b[0m\u001b[0;34m:\u001b[0m\u001b[0;34m\u001b[0m\u001b[0;34m\u001b[0m\u001b[0m\n\u001b[1;32m    429\u001b[0m                 \u001b[0;32mif\u001b[0m \u001b[0;32mnot\u001b[0m \u001b[0mignore_failures\u001b[0m\u001b[0;34m:\u001b[0m\u001b[0;34m\u001b[0m\u001b[0;34m\u001b[0m\u001b[0m\n",
      "\u001b[0;32m~/conda-envs/env_for_geoclaw/lib/python3.9/site-packages/pandas/core/internals/blocks.py\u001b[0m in \u001b[0;36mto_native_types\u001b[0;34m(self, na_rep, float_format, decimal, quoting, **kwargs)\u001b[0m\n\u001b[1;32m   2113\u001b[0m \u001b[0;34m\u001b[0m\u001b[0m\n\u001b[1;32m   2114\u001b[0m             \u001b[0;32mif\u001b[0m \u001b[0;32mnot\u001b[0m \u001b[0mquoting\u001b[0m\u001b[0;34m:\u001b[0m\u001b[0;34m\u001b[0m\u001b[0;34m\u001b[0m\u001b[0m\n\u001b[0;32m-> 2115\u001b[0;31m                 \u001b[0mvalues\u001b[0m \u001b[0;34m=\u001b[0m \u001b[0mvalues\u001b[0m\u001b[0;34m.\u001b[0m\u001b[0mastype\u001b[0m\u001b[0;34m(\u001b[0m\u001b[0mstr\u001b[0m\u001b[0;34m)\u001b[0m\u001b[0;34m\u001b[0m\u001b[0;34m\u001b[0m\u001b[0m\n\u001b[0m\u001b[1;32m   2116\u001b[0m             \u001b[0;32melse\u001b[0m\u001b[0;34m:\u001b[0m\u001b[0;34m\u001b[0m\u001b[0;34m\u001b[0m\u001b[0m\n\u001b[1;32m   2117\u001b[0m                 \u001b[0mvalues\u001b[0m \u001b[0;34m=\u001b[0m \u001b[0mnp\u001b[0m\u001b[0;34m.\u001b[0m\u001b[0marray\u001b[0m\u001b[0;34m(\u001b[0m\u001b[0mvalues\u001b[0m\u001b[0;34m,\u001b[0m \u001b[0mdtype\u001b[0m\u001b[0;34m=\u001b[0m\u001b[0;34m\"object\"\u001b[0m\u001b[0;34m)\u001b[0m\u001b[0;34m\u001b[0m\u001b[0;34m\u001b[0m\u001b[0m\n",
      "\u001b[0;31mKeyboardInterrupt\u001b[0m: "
     ]
    }
   ],
   "source": [
    "# Saving the synthetic topo file\n",
    "file_out_dir = '/home/jovyan/data/topo_files_output/'\n",
    "file_out_path = os.path.join(file_out_dir, 'Syn_topo_org.txt')\n",
    "pd.DataFrame(z).to_csv(file_out_path, sep='\\t', index=False, header = False)"
   ]
  },
  {
   "cell_type": "code",
   "execution_count": null,
   "metadata": {},
   "outputs": [],
   "source": [
    "# Making a subset of the synthetic topo file\n",
    "xis = np.linspace(0,len(x),num = 50,endpoint=False).astype(int)\n",
    "yis = np.linspace(0,len(y),num = 50,endpoint=False).astype(int)\n",
    "zis = np.meshgrid(xis,yis,indexing = 'ij')\n",
    "zsub = z[zis]\n",
    "zsub = np.flip(zsub)\n",
    "\n",
    "sample_file_dir = '/home/jovyan/data/hydroinformatics/syn_topo/data/'\n",
    "sample_file_path = os.path.join(sample_file_dir, 'fileType2_subset.txt' )\n",
    "pd.DataFrame(zsub).to_csv(sample_file_path, sep='\\t', index=False, header = False)"
   ]
  },
  {
   "cell_type": "code",
   "execution_count": null,
   "metadata": {},
   "outputs": [],
   "source": [
    "# Checking the size of the file\n",
    "zsub.shape"
   ]
  },
  {
   "cell_type": "code",
   "execution_count": null,
   "metadata": {},
   "outputs": [],
   "source": [
    "import netCDF4\n",
    "topo_file_sample = topotools.Topography()\n",
    "topo_file_sample.x = x[xis]\n",
    "topo_file_sample.y = y[yis]\n",
    "topo_file_sample.Z = zsub\n",
    "\n",
    "sample_file_dir = '/home/jovyan/data/hydroinformatics/syn_topo/data/'\n",
    "outfile = os.path.join(sample_file_dir, 'Topo_sample.nc' )\n",
    "\n",
    "topo_file_sample.write(outfile, topo_type=4)\n",
    "\n",
    "topo_file_sample.plot()"
   ]
  },
  {
   "cell_type": "code",
   "execution_count": null,
   "metadata": {},
   "outputs": [],
   "source": [
    "import netCDF4\n",
    "topo_file_sample = topotools.Topography()\n",
    "topo_file_sample.x = x\n",
    "topo_file_sample.y = y\n",
    "topo_file_sample.Z = z\n",
    "\n",
    "sample_file_dir = '/home/jovyan/data/hydroinformatics/syn_topo/data/'\n",
    "outfile = os.path.join(sample_file_dir, 'Topo_syn.nc' )\n",
    "\n",
    "topo_file_sample.write(outfile, topo_type=4)\n",
    "\n",
    "topo_file_sample.plot()"
   ]
  },
  {
   "cell_type": "code",
   "execution_count": null,
   "metadata": {},
   "outputs": [],
   "source": [
    "# Code to generate header and the header file for Type 2 of Topo files\n",
    "def header_string( col_numbers, row_numbers, size_cell):\n",
    "    #header = 'ncols\\t\\t'+str(col_numbers)+'\\nnrows\\t\\t'+str(row_numbers)+'\\nxllcorner\\t'+str(0)+'\\nyllcorner\\t'+str(0)+'\\ncellsize\\t'+str(size_cell)+'\\nNODATA_value\\t-9999\\n'\n",
    "    header = 'ncols\\t\\t'+str(col_numbers)+'\\nnrows\\t\\t'+str(row_numbers)+'\\nxllcenter\\t'+str(0)+'\\nyllcenter\\t'+str(0)+'\\ncellsize\\t'+str(size_cell)+'\\nNODATA_value\\t-9999\\n'\n",
    "    return header\n",
    "\n",
    "result_header = header_string(zsub.shape[0],zsub.shape[1],3)\n",
    "result_header\n",
    "sample_file_dir = '/home/jovyan/data/hydroinformatics/syn_topo/data/'\n",
    "sample_file_path_out_header = os.path.join(sample_file_dir, 'header.txt' )\n",
    "Type2_header = open(sample_file_path_out_header,'w')\n",
    "Type2_header.write(result_header)\n",
    "print(result_header)\n",
    "Type2_header.close()\n"
   ]
  },
  {
   "cell_type": "code",
   "execution_count": null,
   "metadata": {},
   "outputs": [],
   "source": [
    "# Code to generate header and the header file for Type 2 of Topo files\n",
    "def header_string( col_numbers, row_numbers, size_cell):\n",
    "    header = 'ncols\\t\\t'+str(col_numbers)+'\\nnrows\\t\\t'+str(row_numbers)+'\\nxllcorner\\t'+str(-95)+'\\nyllcorner\\t'+str(0)+'\\ncellsize\\t'+str(size_cell)+'\\nNODATA_value\\t-9999\\n'\n",
    "    #header = 'ncols\\t\\t'+str(col_numbers)+'\\nnrows\\t\\t'+str(row_numbers)+'\\nxllcenter\\t'+str(0)+'\\nyllcenter\\t'+str(0)+'\\ncellsize\\t'+str(size_cell)+'\\nNODATA_value\\t-9999\\n'\n",
    "    return header\n",
    "\n",
    "result_header_org = header_string(z.shape[0],z.shape[1],.003)\n",
    "result_header_org\n",
    "file_out_dir = '/home/jovyan/data/topo_files_output/'\n",
    "org_file_header= os.path.join(file_out_dir, 'header_org.txt' )\n",
    "Type2_header_org = open(org_file_header,'w')\n",
    "Type2_header_org.write(result_header_org)\n",
    "print(result_header_org)\n",
    "Type2_header_org.close()"
   ]
  },
  {
   "cell_type": "code",
   "execution_count": null,
   "metadata": {},
   "outputs": [],
   "source": [
    "# Merging the header file and the generated synthetic topography to create a Type 2 topo file\n",
    "data = data2 = \"\"\n",
    " \n",
    "# Reading data from the header\n",
    "with open(sample_file_path_out_header) as fp:\n",
    "    data = fp.read()\n",
    "\n",
    "with open(sample_file_path) as fp:\n",
    "    data2 = fp.read()\n",
    "    \n",
    "# Merging header to the file\n",
    "data += data2\n",
    "\n",
    "sample_file_path_out_header = os.path.join(sample_file_dir, 'Final.txt' )\n",
    "with open (sample_file_path_out_header, 'w') as fp:\n",
    "    fp.write(data)\n",
    "\n"
   ]
  },
  {
   "cell_type": "code",
   "execution_count": null,
   "metadata": {},
   "outputs": [],
   "source": [
    "# Merging the header file and the generated synthetic topography to create a Type 2 topo file\n",
    "data = data2 = \"\"\n",
    " \n",
    "# Reading data from the header\n",
    "with open(org_file_header) as fp:\n",
    "    data = fp.read()\n",
    "    \n",
    "file_out_path = os.path.join(file_out_dir, 'Syn_topo_org.txt')\n",
    "with open(file_out_path) as fp:\n",
    "    data2 = fp.read()\n",
    "    \n",
    "# Merging header to the file\n",
    "data += data2\n",
    "\n",
    "syn_file_with_header = os.path.join(file_out_dir, 'Topo_4.txt' )\n",
    "with open (syn_file_with_header, 'w') as fp:\n",
    "    fp.write(data)"
   ]
  },
  {
   "cell_type": "markdown",
   "metadata": {},
   "source": [
    "If all you want to do is use this topo file in a GeoClaw run, you do not need to use any further Python tools."
   ]
  },
  {
   "cell_type": "markdown",
   "metadata": {},
   "source": [
    "<div id=\"read\"></div>\n",
    "\n",
    "## Reading a topo file\n",
    "\n",
    "In order to plot or manipulate the topo data, we first read the file we just downloaded into a `topotools.Topography` object.  To do so, we must know how the data is formatted.  This file is in the format `topo_type==2` as described at <http://clawpack.github.io/doc/topo.html>:"
   ]
  },
  {
   "cell_type": "code",
   "execution_count": null,
   "metadata": {},
   "outputs": [],
   "source": [
    "from __future__ import print_function\n",
    "from clawpack.geoclaw import topotools\n",
    "import os\n",
    "sample_file_dir = '/home/jovyan/data/hydroinformatics/syn_topo/data/'\n",
    "sample_file_path_out_header = os.path.join(sample_file_dir, 'Final.txt')\n",
    "\n",
    "topo = topotools.Topography()\n",
    "topo.read(sample_file_path_out_header, topo_type=2)"
   ]
  },
  {
   "cell_type": "code",
   "execution_count": null,
   "metadata": {},
   "outputs": [],
   "source": [
    "from __future__ import print_function\n",
    "from clawpack.geoclaw import topotools\n",
    "import os\n",
    "file_out_dir = '/home/jovyan/data/topo_files_output/'\n",
    "topo_path = os.path.join(file_out_dir, 'Topo4.txt' )\n",
    "topo = topotools.Topography()\n",
    "topo.read(topo_path, topo_type=2)"
   ]
  },
  {
   "cell_type": "markdown",
   "metadata": {},
   "source": [
    "We can now do various things with the data.  First let's print out some basic attributes:"
   ]
  },
  {
   "cell_type": "code",
   "execution_count": null,
   "metadata": {},
   "outputs": [],
   "source": [
    "print(\"The extent of the data in longitude and latitude: \")\n",
    "print(topo.extent)\n",
    "print(\"The shapes of 1-dimensional arrays of longitude x and latitude y values:\", topo.x.shape, topo.y.shape)\n",
    "print(\"The shapes of 2-dimensional arrays X,Y and the topography data Z:\", topo.Z.shape)\n",
    "print(\"topo.delta = \",topo.delta)"
   ]
  },
  {
   "cell_type": "markdown",
   "metadata": {},
   "source": [
    "From the filename you might guess this is 10-arcminute data, we can check that it is:"
   ]
  },
  {
   "cell_type": "markdown",
   "metadata": {},
   "source": [
    "<div id=plot></div>\n",
    "## Plotting topography data\n",
    "\n",
    "A simple plot with various defaults used can be obtained simply by:"
   ]
  },
  {
   "cell_type": "code",
   "execution_count": null,
   "metadata": {},
   "outputs": [],
   "source": [
    "topo.plot()"
   ]
  },
  {
   "cell_type": "code",
   "execution_count": null,
   "metadata": {},
   "outputs": [],
   "source": [
    "# Coarsening the topo file\n",
    "topo2 = topo.crop(filter_region=None, coarsen=2)\n",
    "print(\"The original grid was of shape %s, topo2 has shape %s\" % (topo.Z.shape,topo2.Z.shape))\n",
    "\n",
    "topo3 = topo.crop(filter_region=None, coarsen=3)\n",
    "print(\"The original grid was of shape %s, topo3 has shape %s\" % (topo.Z.shape,topo3.Z.shape))\n",
    "\n",
    "topo4 = topo.crop(filter_region=None, coarsen=4)\n",
    "print(\"The original grid was of shape %s, topo4 has shape %s\" % (topo.Z.shape,topo4.Z.shape))\n",
    "\n",
    "\n",
    "figure(figsize=(12,6))\n",
    "ax1 = subplot(221)\n",
    "topo.plot(axes=ax1)\n",
    "title('Level4')\n",
    "\n",
    "ax2 = subplot(222)\n",
    "topo2.plot(axes=ax2)\n",
    "title('Level3')\n",
    "\n",
    "ax3 = subplot(223)\n",
    "topo3.plot(axes=ax3)\n",
    "title('Level2')\n",
    "\n",
    "ax4 = subplot(224)\n",
    "topo4.plot(axes=ax4)\n",
    "title('Level1')\n"
   ]
  },
  {
   "cell_type": "markdown",
   "metadata": {},
   "source": [
    "You can specify the limits of the color range:"
   ]
  },
  {
   "cell_type": "code",
   "execution_count": null,
   "metadata": {},
   "outputs": [],
   "source": [
    "topo.plot(limits=(-6000,4000))"
   ]
  },
  {
   "cell_type": "markdown",
   "metadata": {},
   "source": [
    "Various other arguments can be supplied for more control, see [the documentation](http://www.clawpack.org/topotools_module.html)."
   ]
  },
  {
   "cell_type": "markdown",
   "metadata": {},
   "source": [
    "Of course you can plot the data any way you want using the X, Y, and Z attributes.\n",
    "\n",
    "Here are a couple examples:"
   ]
  },
  {
   "cell_type": "code",
   "execution_count": null,
   "metadata": {},
   "outputs": [],
   "source": [
    "figure(figsize=(12,6))\n",
    "subplot(121)\n",
    "contourf(topo.X, topo.Y, topo.Z, [-7000, -5000, -4000, -3000, -2000, 0])\n",
    "colorbar()\n",
    "# rescale aspect ratio based on mean latitude so distances more correct:\n",
    "gca().set_aspect(1.0 / cos(pi / 180.0 * topo.y.mean()))  \n",
    "\n",
    "subplot(122)\n",
    "contourf(topo.X, topo.Y, topo.Z, [0,10000], colors = '#55ff55')\n",
    "contour(topo.X, topo.Y, topo.Z, [0], linestyles='-', colors='k')\n",
    "gca().set_aspect(1.0 / cos(pi / 180.0 * topo.y.mean()))  \n"
   ]
  },
  {
   "cell_type": "markdown",
   "metadata": {},
   "source": [
    "<div id=crop></div>\n",
    "## Cropping topography\n",
    "\n",
    "Sometimes it is useful to crop a large topo file to create a smaller one that contains a sub-region, e.g."
   ]
  },
  {
   "cell_type": "code",
   "execution_count": null,
   "metadata": {},
   "outputs": [],
   "source": [
    "filter_region = (-90, -60, -60, -40)\n",
    "topo2 = topo.crop(filter_region)\n",
    "topo2.Z.shape"
   ]
  },
  {
   "cell_type": "code",
   "execution_count": null,
   "metadata": {},
   "outputs": [],
   "source": [
    "topo2.plot()"
   ]
  },
  {
   "cell_type": "markdown",
   "metadata": {},
   "source": [
    "The cropped topography can be written out to a new file, which will be smaller than the original:"
   ]
  },
  {
   "cell_type": "code",
   "execution_count": null,
   "metadata": {},
   "outputs": [],
   "source": [
    "topo2_path = os.path.join(datadir,'tip_of_south_america.tt3')\n",
    "topo2.write(topo2_path, topo_type=3)"
   ]
  },
  {
   "cell_type": "code",
   "execution_count": null,
   "metadata": {},
   "outputs": [],
   "source": [
    "print(\"Size of the new file: %s bytes\" % os.stat(topo2_path).st_size)\n",
    "print(\"Size of the original file: %s bytes\" % os.stat(topo_path).st_size)"
   ]
  },
  {
   "cell_type": "markdown",
   "metadata": {},
   "source": [
    "To obtain topography for other regions, see the links at <http://clawpack.github.io/doc/tsunamidata.html>"
   ]
  },
  {
   "cell_type": "markdown",
   "metadata": {},
   "source": [
    "<div id=coarsen></div>\n",
    "## Coarsening topography\n",
    "\n",
    "The `crop` function also has an optional argument `coarsen` with default value 1.  If the value is  larger integer than it coarsens the grid by that factor in each direction.\n",
    "\n",
    "In the example below `filter_region=None` specifies that the original domain size should be retained, but one can also crop it at the same time as coarsening."
   ]
  },
  {
   "cell_type": "code",
   "execution_count": null,
   "metadata": {},
   "outputs": [],
   "source": [
    "topo3 = topo.crop(filter_region=None, coarsen=4)\n",
    "print(\"The original grid was of shape %s, topo3 has shape %s\" % (topo.Z.shape,topo3.Z.shape))\n",
    "\n",
    "figure(figsize=(12,6))\n",
    "ax1 = subplot(121)\n",
    "topo.plot(axes=ax1)\n",
    "title('Original')\n",
    "ax2 = subplot(122)\n",
    "topo3.plot(axes=ax2)\n",
    "title('Coarsened')"
   ]
  },
  {
   "cell_type": "markdown",
   "metadata": {},
   "source": [
    "<div id=unstructured></div>\n",
    "## Unstructured Topography"
   ]
  },
  {
   "cell_type": "markdown",
   "metadata": {},
   "source": [
    "The `topotools` and `Topography` class also have facilities for handling unstructured topography data.  To start we will randomly sample the data we were working with above to get an unstructured data file.  Here we generate random tuples of longitude-latitude and interpolate the original data so we can get a field at the random points."
   ]
  },
  {
   "cell_type": "code",
   "execution_count": null,
   "metadata": {},
   "outputs": [],
   "source": [
    "import scipy.interpolate as interpolate\n",
    "\n",
    "N = 10000\n",
    "\n",
    "x = numpy.random.rand(N) * (topo.x[-1] - topo.x[0]) + topo.x[0]\n",
    "y = numpy.random.rand(N) * (topo.y[-1] - topo.y[0]) + topo.y[0]\n",
    "\n",
    "# Here we need to transpose the Z array so that the coordinate evaluation is correct\n",
    "bathy = interpolate.RectBivariateSpline(topo.x, topo.y, topo.Z.transpose())\n",
    "\n",
    "# strange hack to evaluate the function `bathy` produced by RectBivariateSpline since bathy(x, y) does not work\n",
    "z = numpy.empty(x.shape)\n",
    "for i in range(x.shape[0]):\n",
    "    z[i] = bathy(x[i], y[i])"
   ]
  },
  {
   "cell_type": "markdown",
   "metadata": {},
   "source": [
    "Now lets construct the unstructured topography object based on the random locations we just generated."
   ]
  },
  {
   "cell_type": "code",
   "execution_count": null,
   "metadata": {},
   "outputs": [],
   "source": [
    "\n"
   ]
  },
  {
   "cell_type": "code",
   "execution_count": null,
   "metadata": {},
   "outputs": [],
   "source": []
  },
  {
   "cell_type": "code",
   "execution_count": null,
   "metadata": {},
   "outputs": [],
   "source": [
    "x = Melbourne_sample['Longitude']\n",
    "y = Melbourne_sample['Latitude']\n",
    "z = Melbourne_sample['Elevation']"
   ]
  },
  {
   "cell_type": "code",
   "execution_count": null,
   "metadata": {},
   "outputs": [],
   "source": [
    "unstructured_topo = topotools.Topography(unstructured=True)\n",
    "unstructured_topo.x = x\n",
    "unstructured_topo.y = y\n",
    "unstructured_topo.z = z"
   ]
  },
  {
   "cell_type": "markdown",
   "metadata": {},
   "source": [
    "We can plot the data as is to see what we randomly created so far"
   ]
  },
  {
   "cell_type": "code",
   "execution_count": null,
   "metadata": {},
   "outputs": [],
   "source": [
    "unstructured_topo.plot()"
   ]
  },
  {
   "cell_type": "markdown",
   "metadata": {},
   "source": [
    "One of the primary things we want to be able to do with unstructured topography data is to turn it into structured data which GeoClaw can use.  In order to do this, there is a method in the `Topography` class called `interp_unstructured` which has a number of options.  Here we will just go with the defaults (please see the documentation for the full assortment of options).   In this case we will provide two things to the routine.  The first is topography to use to fill in possible gaps in the unstructured topography.  This \"fill topography\" can be structured or unstructured.  The second argument we provide is a limit on the calculated grid spacing.  The routine attempts to calculate the minimum distance between two points and uses this as the basis of the structured grid.  Placing a limit on this insures that the resulting grid is not too fine.  Addtional options for filtering the data in the routine, smoothing and interpolation strategies are also available."
   ]
  },
  {
   "cell_type": "code",
   "execution_count": null,
   "metadata": {},
   "outputs": [],
   "source": [
    "#unstructured_topo.interp_unstructured(topo, delta_limit=10000)  # fills in with original topography, if available\n",
    "unstructured_topo.interp_unstructured([], delta_limit=10000)  # does not fill in with other topo, more realistic"
   ]
  },
  {
   "cell_type": "markdown",
   "metadata": {},
   "source": [
    "Now that the topography has been interpolated onto a new grid, we can check to see if the `unstructured` attribute is in fact now set to `False`."
   ]
  },
  {
   "cell_type": "code",
   "execution_count": null,
   "metadata": {},
   "outputs": [],
   "source": [
    "unstructured_topo.unstructured"
   ]
  },
  {
   "cell_type": "markdown",
   "metadata": {},
   "source": [
    "A new set of attributes `X, Y, Z` have been created, interpolated to a regular grid:"
   ]
  },
  {
   "cell_type": "code",
   "execution_count": null,
   "metadata": {},
   "outputs": [],
   "source": [
    "print(\"unstructured_topo.z has shape %s, unstructured_topo.Z has shape %s\" \\\n",
    "        % (unstructured_topo.z.shape, unstructured_topo.Z.shape))"
   ]
  },
  {
   "cell_type": "markdown",
   "metadata": {},
   "source": [
    "Usually at this point you will want to save out a copy of the interpolated topography for use with GeoClaw, the usual functions from before work of course.  More interesting is to plot the new topography which we can again do by using the `plot` function:"
   ]
  },
  {
   "cell_type": "code",
   "execution_count": null,
   "metadata": {},
   "outputs": [],
   "source": [
    "unstructured_topo.plot()"
   ]
  },
  {
   "cell_type": "code",
   "execution_count": null,
   "metadata": {},
   "outputs": [],
   "source": []
  }
 ],
 "metadata": {
  "kernelspec": {
   "display_name": "Python [conda env:env_for_geoclaw]",
   "language": "python",
   "name": "conda-env-env_for_geoclaw-py"
  },
  "language_info": {
   "codemirror_mode": {
    "name": "ipython",
    "version": 3
   },
   "file_extension": ".py",
   "mimetype": "text/x-python",
   "name": "python",
   "nbconvert_exporter": "python",
   "pygments_lexer": "ipython3",
   "version": "3.9.4"
  }
 },
 "nbformat": 4,
 "nbformat_minor": 4
}
